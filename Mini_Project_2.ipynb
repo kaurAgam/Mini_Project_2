{
  "nbformat": 4,
  "nbformat_minor": 0,
  "metadata": {
    "colab": {
      "provenance": [],
      "authorship_tag": "ABX9TyPnPcymZoCXWW/FsMXBtOym",
      "include_colab_link": true
    },
    "kernelspec": {
      "name": "python3",
      "display_name": "Python 3"
    },
    "language_info": {
      "name": "python"
    }
  },
  "cells": [
    {
      "cell_type": "markdown",
      "metadata": {
        "id": "view-in-github",
        "colab_type": "text"
      },
      "source": [
        "<a href=\"https://colab.research.google.com/github/kaurAgam/Mini_Project_2/blob/main/Mini_Project_2.ipynb\" target=\"_parent\"><img src=\"https://colab.research.google.com/assets/colab-badge.svg\" alt=\"Open In Colab\"/></a>"
      ]
    },
    {
      "cell_type": "code",
      "execution_count": 40,
      "metadata": {
        "colab": {
          "base_uri": "https://localhost:8080/"
        },
        "id": "tceL0Mj7onRm",
        "outputId": "c1065bab-9ac5-4a1f-d852-ebf076265be6"
      },
      "outputs": [
        {
          "output_type": "stream",
          "name": "stderr",
          "text": [
            "<ipython-input-40-7fc9b1f1dca1>:12: DeprecationWarning: Sampling from a set deprecated\n",
            "since Python 3.9 and will be removed in a subsequent version.\n",
            "  random_set=frozenset(r.sample(s,size))\n"
          ]
        }
      ],
      "source": [
        "\n",
        "#Find all the subsets from a set of numbers whose sum is zero.\n",
        "#Constraint: Subset size must be 5\n",
        "#Set={-12, -3, -6, 7, 2, -2, 6, 3, 9, -7, -5, -8, 1, 11, -9, -4}\n",
        "\n",
        "import random as r\n",
        "\n",
        "s=set([-12, -3, -6, 7, 2, -2, 6, 3, 9, -7, -5, -8, 1, 11, -9, -4])\n",
        "size=5\n",
        "#sum=0 len=5\n",
        "sol=set()\n",
        "for i in range(0,100000):\n",
        "  random_set=frozenset(r.sample(s,size))\n",
        "  if(sum(random_set)==0):\n",
        "    if random_set not in sol:\n",
        "      sol.add(random_set)\n",
        "\n"
      ]
    },
    {
      "cell_type": "code",
      "source": [
        "print(len(sol))\n",
        "print(sol)"
      ],
      "metadata": {
        "colab": {
          "base_uri": "https://localhost:8080/"
        },
        "id": "5zoMWOz9qqY9",
        "outputId": "0c1ee954-c809-4802-e366-d761f9cd6c37"
      },
      "execution_count": 41,
      "outputs": [
        {
          "output_type": "stream",
          "name": "stdout",
          "text": [
            "120\n",
            "{frozenset({1, 6, 7, -8, -6}), frozenset({1, 3, 11, -8, -7}), frozenset({2, 7, 9, -12, -6}), frozenset({1, 3, 9, -9, -4}), frozenset({3, 11, -9, -3, -2}), frozenset({9, 11, -9, -6, -5}), frozenset({1, 2, 7, -6, -4}), frozenset({1, 3, 6, -8, -2}), frozenset({9, 11, -12, -6, -2}), frozenset({7, 11, -9, -7, -2}), frozenset({7, 9, -8, -6, -2}), frozenset({1, 3, 7, -6, -5}), frozenset({3, 6, 9, -12, -6}), frozenset({1, 2, 7, -7, -3}), frozenset({3, 11, -8, -4, -2}), frozenset({3, 7, -5, -3, -2}), frozenset({1, 2, 11, -8, -6}), frozenset({3, 11, -6, -5, -3}), frozenset({2, 3, 7, -8, -4}), frozenset({1, 9, -5, -3, -2}), frozenset({2, 3, 7, -9, -3}), frozenset({1, 3, 6, -7, -3}), frozenset({1, 3, 11, -9, -6}), frozenset({1, 2, 6, -5, -4}), frozenset({1, 11, -6, -4, -2}), frozenset({6, 9, -9, -4, -2}), frozenset({6, 11, -8, -7, -2}), frozenset({2, 11, -6, -4, -3}), frozenset({1, 3, 7, -9, -2}), frozenset({6, 9, -7, -5, -3}), frozenset({7, 9, -9, -5, -2}), frozenset({2, 6, 9, -9, -8}), frozenset({2, 6, 11, -12, -7}), frozenset({2, 6, 9, -12, -5}), frozenset({2, 9, -6, -3, -2}), frozenset({1, 6, 9, -9, -7}), frozenset({6, 7, -6, -5, -2}), frozenset({6, 9, -6, -5, -4}), frozenset({3, 11, -7, -5, -2}), frozenset({3, 6, -4, -3, -2}), frozenset({1, 2, 11, -12, -2}), frozenset({7, 11, -8, -6, -4}), frozenset({1, 2, 11, -9, -5}), frozenset({1, 11, -7, -3, -2}), frozenset({1, 3, 6, -6, -4}), frozenset({2, 6, 7, -12, -3}), frozenset({7, 9, -9, -4, -3}), frozenset({6, 11, -9, -6, -2}), frozenset({1, 2, 3, 6, -12}), frozenset({6, 9, -8, -5, -2}), frozenset({6, 7, -8, -3, -2}), frozenset({2, 11, -6, -5, -2}), frozenset({9, 11, -8, -7, -5}), frozenset({1, 11, -5, -4, -3}), frozenset({1, 7, 11, -12, -7}), frozenset({2, 6, 7, -8, -7}), frozenset({2, 3, 9, -8, -6}), frozenset({2, 6, 7, -9, -6}), frozenset({2, 3, 11, -9, -7}), frozenset({6, 11, -8, -6, -3}), frozenset({2, 11, -7, -4, -2}), frozenset({6, 7, -7, -4, -2}), frozenset({6, 11, -8, -5, -4}), frozenset({3, 6, 7, -9, -7}), frozenset({2, 11, -8, -3, -2}), frozenset({6, 11, -7, -6, -4}), frozenset({3, 9, -5, -4, -3}), frozenset({7, 11, -9, -5, -4}), frozenset({7, 11, -12, -4, -2}), frozenset({2, 3, 7, -7, -5}), frozenset({3, 7, 11, -12, -9}), frozenset({2, 7, 11, -12, -8}), frozenset({6, 9, -7, -6, -2}), frozenset({1, 6, 7, -9, -5}), frozenset({1, 3, 9, -8, -5}), frozenset({1, 2, 9, -9, -3}), frozenset({1, 6, 7, -12, -2}), frozenset({9, 11, -12, -5, -3}), frozenset({6, 9, -8, -4, -3}), frozenset({1, 7, 9, -12, -5}), frozenset({2, 3, 9, -12, -2}), frozenset({6, 11, -9, -5, -3}), frozenset({3, 9, -6, -4, -2}), frozenset({1, 3, 7, -7, -4}), frozenset({3, 6, 11, -12, -8}), frozenset({2, 3, 6, -6, -5}), frozenset({1, 9, 11, -12, -9}), frozenset({1, 7, 9, -9, -8}), frozenset({1, 2, 9, -7, -5}), frozenset({6, 7, -6, -4, -3}), frozenset({3, 11, -7, -4, -3}), frozenset({1, 2, 6, -6, -3}), frozenset({7, 9, -7, -5, -4}), frozenset({1, 6, 11, -12, -6}), frozenset({2, 7, -4, -3, -2}), frozenset({7, 9, -7, -6, -3}), frozenset({7, 11, -9, -6, -3}), frozenset({7, 11, -8, -7, -3}), frozenset({1, 2, 3, -4, -2}), frozenset({1, 3, 9, -7, -6}), frozenset({1, 6, 9, -12, -4}), frozenset({7, 9, -8, -5, -3}), frozenset({6, 11, -12, -3, -2}), frozenset({2, 3, 6, -8, -3}), frozenset({1, 3, 11, -12, -3}), frozenset({1, 3, 7, -8, -3}), frozenset({2, 9, -5, -4, -2}), frozenset({9, 11, -9, -7, -4}), frozenset({3, 9, -7, -3, -2}), frozenset({2, 3, 9, -9, -5}), frozenset({2, 3, 6, -7, -4}), frozenset({1, 2, 6, -7, -2}), frozenset({9, 11, -9, -8, -3}), frozenset({7, 11, -7, -6, -5}), frozenset({3, 7, 9, -12, -7}), frozenset({1, 2, 9, -8, -4}), frozenset({1, 2, 7, -8, -2}), frozenset({2, 3, 11, -12, -4}), frozenset({3, 6, 7, -12, -4}), frozenset({2, 3, 6, -9, -2})}\n"
          ]
        }
      ]
    },
    {
      "cell_type": "code",
      "source": [
        "#Find all the subsets from a set of numbers whose sum is zero.\n",
        "#Constraint: Subset size must be 3 to 6 only\n",
        "#Set={-12, -3, -6, 7, 2, -2, 6, 3, 9, -7, -5, -8, 1, 11, -9, -4}\n",
        "import random as r\n",
        "\n",
        "s=set([-12, -3, -6, 7, 2, -2, 6, 3, 9, -7, -5, -8, 1, 11, -9, -4])\n",
        "\n",
        "#sum=0 len=5\n",
        "sol=set()\n",
        "for i in range(0,100000):\n",
        "  random_set=frozenset(r.sample(s,r.randint(3,6)))\n",
        "  if(sum(random_set)==0):\n",
        "    if random_set not in sol:\n",
        "      sol.add(random_set)\n"
      ],
      "metadata": {
        "colab": {
          "base_uri": "https://localhost:8080/"
        },
        "id": "hi53cH9EvAdQ",
        "outputId": "4a408ba7-9c4a-4306-c264-045ed08a985b"
      },
      "execution_count": 42,
      "outputs": [
        {
          "output_type": "stream",
          "name": "stderr",
          "text": [
            "<ipython-input-42-e505b91b6b9b>:11: DeprecationWarning: Sampling from a set deprecated\n",
            "since Python 3.9 and will be removed in a subsequent version.\n",
            "  random_set=frozenset(r.sample(s,r.randint(3,6)))\n"
          ]
        }
      ]
    },
    {
      "cell_type": "code",
      "source": [
        "print(len(sol))\n",
        "print(sol)"
      ],
      "metadata": {
        "colab": {
          "base_uri": "https://localhost:8080/"
        },
        "id": "Tf05Pkz9vW0m",
        "outputId": "54b6e610-fb4a-48fe-d2b4-6f64b18608c1"
      },
      "execution_count": 43,
      "outputs": [
        {
          "output_type": "stream",
          "name": "stdout",
          "text": [
            "395\n",
            "{frozenset({7, 11, -6, -5, -4, -3}), frozenset({1, 2, 6, 11, -12, -8}), frozenset({9, 11, -9, -6, -5}), frozenset({7, 11, -9, -7, -2}), frozenset({7, 9, -8, -6, -2}), frozenset({1, 6, 11, -8, -6, -4}), frozenset({2, 3, 7, 9, -12, -9}), frozenset({3, 6, 9, -12, -6}), frozenset({-6, 11, -3, -2}), frozenset({-8, 2, 6}), frozenset({3, 9, 11, -12, -9, -2}), frozenset({2, 6, 11, -9, -6, -4}), frozenset({1, 9, -5, -3, -2}), frozenset({1, 3, 6, -7, -3}), frozenset({2, 3, 7, -5, -4, -3}), frozenset({3, 6, 9, -12, -4, -2}), frozenset({2, 11, -6, -4, -3}), frozenset({1, 3, 9, -8, -3, -2}), frozenset({6, 9, -7, -5, -3}), frozenset({7, 9, -9, -5, -2}), frozenset({9, 2, -12, 1}), frozenset({2, -5, -4, 7}), frozenset({2, 3, 11, -9, -4, -3}), frozenset({6, 7, 11, -12, -9, -3}), frozenset({7, 11, -7, -6, -3, -2}), frozenset({1, 3, 6, 7, -9, -8}), frozenset({2, 7, 9, -9, -5, -4}), frozenset({1, -6, -2, 7}), frozenset({2, 11, -4, -9}), frozenset({1, 2, 11, -9, -5}), frozenset({1, 3, 11, -7, -5, -3}), frozenset({9, 11, -9, -6, -3, -2}), frozenset({1, 3, -4}), frozenset({-8, 3, -2, 7}), frozenset({1, 2, 7, -5, -3, -2}), frozenset({2, 6, 7, -9, -6}), frozenset({6, 7, 11, -12, -8, -4}), frozenset({7, 9, -6, -5, -3, -2}), frozenset({2, 3, 11, -7, -6, -3}), frozenset({6, 11, -8, -5, -4}), frozenset({-8, 11, -3}), frozenset({7, 11, -9, -4, -3, -2}), frozenset({3, 6, 7, -7, -5, -4}), frozenset({6, 11, -7, -6, -4}), frozenset({3, -5, -4, 6}), frozenset({1, 6, 7, -7, -4, -3}), frozenset({1, 7, 11, -8, -7, -4}), frozenset({2, 6, 11, -8, -7, -4}), frozenset({2, 3, 7, -7, -5}), frozenset({6, 9, 11, -12, -8, -6}), frozenset({2, 3, 11, -8, -6, -2}), frozenset({2, 7, 11, -12, -8}), frozenset({3, 6, 9, -7, -6, -5}), frozenset({3, 6, 7, -8, -6, -2}), frozenset({1, 6, 9, -9, -5, -2}), frozenset({2, 3, 7, -6, -4, -2}), frozenset({6, 7, 9, -12, -6, -4}), frozenset({1, 2, 11, -8, -4, -2}), frozenset({2, 3, 9, -12, -2}), frozenset({1, 2, 11, -7, -5, -2}), frozenset({3, 6, 11, -12, -5, -3}), frozenset({2, 6, 11, -9, -8, -2}), frozenset({2, -6, -3, 7}), frozenset({3, 9, -6, -4, -2}), frozenset({3, 6, 11, -12, -8}), frozenset({2, 3, 6, 9, -12, -8}), frozenset({1, 2, 3, 7, -8, -5}), frozenset({1, -5, -2, 6}), frozenset({2, 6, 7, -8, -5, -2}), frozenset({1, 2, 6, -6, -3}), frozenset({1, 3, 11, -6, -5, -4}), frozenset({1, 6, 11, -12, -6}), frozenset({7, 9, -7, -6, -3}), frozenset({1, 3, 9, -7, -6}), frozenset({3, 6, 11, -9, -6, -5}), frozenset({2, 3, 6, 7, -12, -6}), frozenset({2, 3, 6, -8, -3}), frozenset({2, 9, -5, -4, -2}), frozenset({2, 3, 9, -9, -5}), frozenset({-6, 2, 6, -2}), frozenset({-8, -7, 6, 9}), frozenset({1, 3, 6, 9, -12, -7}), frozenset({9, 11, -9, -8, -3}), frozenset({7, 9, 11, -12, -9, -6}), frozenset({3, 7, 9, -9, -7, -3}), frozenset({1, 2, 7, -8, -2}), frozenset({9, 3, -3, -9}), frozenset({2, -7, -6, 11}), frozenset({9, -4, -3, -2}), frozenset({1, 3, 11, -8, -7}), frozenset({3, 6, 11, -12, -6, -2}), frozenset({-7, -6, 6, 7}), frozenset({2, 6, 9, -8, -6, -3}), frozenset({2, 6, 11, -9, -7, -3}), frozenset({-8, 11, -6, 3}), frozenset({2, 3, 9, -9, -3, -2}), frozenset({3, 11, -9, -5}), frozenset({1, 3, 9, -9, -4}), frozenset({1, 6, 9, -7, -6, -3}), frozenset({3, 11, -9, -3, -2}), frozenset({-5, -2, 7}), frozenset({2, 9, 11, -12, -7, -3}), frozenset({1, 2, 3, 6, -9, -3}), frozenset({2, 6, 7, -8, -4, -3}), frozenset({1, 3, 7, -6, -5}), frozenset({2, 6, 7, -7, -5, -3}), frozenset({1, 7, 11, -12, -4, -3}), frozenset({7, 11, -8, -5, -3, -2}), frozenset({9, 11, -8, -5, -4, -3}), frozenset({1, 7, 11, -12, -5, -2}), frozenset({6, 7, 9, -9, -7, -6}), frozenset({1, 2, 3, 7, -9, -4}), frozenset({3, 11, -6, -5, -3}), frozenset({2, 3, 7, -8, -4}), frozenset({-8, 9, 2, -3}), frozenset({1, 2, 6, -5, -4}), frozenset({6, 11, -6, -5, -4, -2}), frozenset({1, 2, 7, 9, -12, -7}), frozenset({1, 3, 7, -9, -2}), frozenset({1, 6, 7, -9, -3, -2}), frozenset({3, 2, -5}), frozenset({2, 6, 11, -12, -7}), frozenset({1, 2, 6, 7, -9, -7}), frozenset({-7, 3, -3, 7}), frozenset({2, 9, -6, -3, -2}), frozenset({3, 9, 11, -12, -8, -3}), frozenset({1, 6, 9, -9, -7}), frozenset({3, 11, -7, -5, -2}), frozenset({1, 6, 11, -12, -4, -2}), frozenset({2, 7, 9, -8, -6, -4}), frozenset({2, 7, 11, -9, -7, -4}), frozenset({3, 6, -4, -3, -2}), frozenset({6, 11, -8, -4, -3, -2}), frozenset({1, 2, 11, -12, -2}), frozenset({7, 11, -8, -6, -4}), frozenset({1, 11, -7, -3, -2}), frozenset({1, 3, 6, -6, -4}), frozenset({9, -7, -2}), frozenset({3, 7, 11, -12, -5, -4}), frozenset({1, 2, 11, -6, -5, -3}), frozenset({2, 6, 7, -12, -3}), frozenset({7, 9, -9, -4, -3}), frozenset({11, -5, -4, -2}), frozenset({6, 11, -9, -6, -2}), frozenset({1, 2, 3, 6, -12}), frozenset({1, 2, 6, -9}), frozenset({2, 11, -6, -5, -2}), frozenset({1, 11, -3, -9}), frozenset({2, 11, -7, -4, -2}), frozenset({6, 7, -7, -4, -2}), frozenset({1, 3, 9, -7, -4, -2}), frozenset({1, 3, 9, -6, -5, -2}), frozenset({3, 9, -5, -4, -3}), frozenset({7, 11, -12, -4, -2}), frozenset({9, 11, -9, -5, -4, -2}), frozenset({3, 7, 11, -12, -9}), frozenset({3, 6, 9, -8, -6, -4}), frozenset({6, 9, -7, -6, -2}), frozenset({3, 6, 11, -9, -7, -4}), frozenset({-9, -4, 6, 7}), frozenset({1, 2, 9, -9, -3}), frozenset({3, 9, 11, -12, -7, -4}), frozenset({1, 6, 9, -9, -4, -3}), frozenset({2, -9, 7}), frozenset({1, 6, 11, -7, -6, -5}), frozenset({1, 2, 3, 6, -8, -4}), frozenset({2, 3, 6, -6, -5}), frozenset({1, 9, 11, -12, -5, -4}), frozenset({1, 2, 9, -7, -5}), frozenset({-7, 2, -4, 9}), frozenset({3, 7, 9, -9, -8, -2}), frozenset({1, 3, 7, -6, -3, -2}), frozenset({-8, 1, 7}), frozenset({1, 11, -12}), frozenset({1, 2, 3, 7, -7, -6}), frozenset({2, 3, 11, -9, -5, -2}), frozenset({6, 9, 11, -12, -9, -5}), frozenset({2, 9, 11, -9, -8, -5}), frozenset({3, 7, 11, -12, -6, -3}), frozenset({3, 7, 9, -12, -4, -3}), frozenset({1, 7, 9, -9, -5, -3}), frozenset({9, -5, -4}), frozenset({3, 7, 9, -8, -6, -5}), frozenset({3, 7, 11, -9, -7, -5}), frozenset({1, 6, 9, -8, -5, -3}), frozenset({3, 7, 11, -9, -8, -4}), frozenset({3, 9, -7, -3, -2}), frozenset({1, 7, 9, -9, -6, -2}), frozenset({9, 11, -7, -6, -4, -3}), frozenset({2, 3, 9, -6, -5, -3}), frozenset({2, 7, 11, -8, -7, -5}), frozenset({-8, 2, 11, -5}), frozenset({7, 11, -7, -6, -5}), frozenset({2, -5, -3, 6}), frozenset({1, 2, 9, -8, -4}), frozenset({3, 9, 11, -9, -8, -6}), frozenset({3, 6, 9, -9, -6, -3}), frozenset({9, 11, -8, -6, -4, -2}), frozenset({6, 9, -6, -4, -3, -2}), frozenset({2, 6, 9, -9, -8}), frozenset({2, 3, 6, -9, -2}), frozenset({1, 6, 7, -8, -6}), frozenset({3, 11, -12, -2}), frozenset({2, 9, 11, -12, -8, -2}), frozenset({2, 7, 9, -12, -6}), frozenset({-8, -5, 6, 7}), frozenset({3, 7, 11, -12, -7, -2}), frozenset({2, 7, 9, -8, -7, -3}), frozenset({2, 3, -12, 7}), frozenset({1, 2, 7, -6, -4}), frozenset({1, 3, 6, -8, -2}), frozenset({1, 2, 9, -7, -3, -2}), frozenset({-8, 1, 11, -4}), frozenset({-6, 3, -4, 7}), frozenset({1, 2, 7, -7, -3}), frozenset({3, 11, -8, -4, -2}), frozenset({-8, 11, 6, -9}), frozenset({3, 7, -5, -3, -2}), frozenset({2, 3, 9, -8, -4, -2}), frozenset({-7, 7, 9, -9}), frozenset({9, 11, -7, -6, -5, -2}), frozenset({-6, 9, 2, -5}), frozenset({3, 6, 7, -9, -5, -2}), frozenset({1, 3, 11, -9, -6}), frozenset({1, 11, -6, -4, -2}), frozenset({6, 9, -9, -4, -2}), frozenset({1, 6, 9, -8, -6, -2}), frozenset({1, 6, 11, -9, -7, -2}), frozenset({6, 11, -8, -7, -2}), frozenset({2, 6, 9, -8, -7, -2}), frozenset({3, 7, 9, -12, -5, -2}), frozenset({2, 6, 7, -6, -5, -4}), frozenset({1, 2, 6, 9, -12, -6}), frozenset({2, 6, 9, -12, -5}), frozenset({1, 9, 11, -12, -7, -2}), frozenset({1, 6, 11, -9, -5, -4}), frozenset({6, 7, -6, -5, -2}), frozenset({6, 9, -6, -5, -4}), frozenset({1, 6, 7, -8, -4, -2}), frozenset({3, 6, 9, -9, -7, -2}), frozenset({1, 3, 7, 9, -12, -8}), frozenset({-4, -2, 6}), frozenset({1, 9, 11, -9, -8, -4}), frozenset({3, 11, -5, -4, -3, -2}), frozenset({9, 2, -2, -9}), frozenset({6, 11, -8, -6, -3}), frozenset({3, 7, 11, -8, -7, -6}), frozenset({-7, 1, 6}), frozenset({2, 6, 11, -12, -4, -3}), frozenset({1, 3, 6, -5, -3, -2}), frozenset({1, 2, 11, -9, -3, -2}), frozenset({1, 2, 3, 6, -7, -5}), frozenset({7, 11, -9, -5, -4}), frozenset({1, 7, 11, -9, -6, -4}), frozenset({1, 3, 11, -8, -4, -3}), frozenset({2, 3, 6, -5, -4, -2}), frozenset({1, 2, 7, 11, -12, -9}), frozenset({2, 7, 9, -9, -7, -2}), frozenset({-8, 9, 3, -4}), frozenset({1, 3, 9, -8, -5}), frozenset({-6, 3, -3, 6}), frozenset({1, 6, 7, -12, -2}), frozenset({9, 11, -12, -5, -3}), frozenset({3, 7, 9, -8, -7, -4}), frozenset({6, 9, -8, -4, -3}), frozenset({9, -12, -4, 7}), frozenset({1, 9, 11, -8, -7, -6}), frozenset({1, 2, 3, 11, -9, -8}), frozenset({6, 11, -9, -5, -3}), frozenset({1, 3, 7, -7, -4}), frozenset({6, 7, 9, -12, -7, -3}), frozenset({2, 3, 9, -7, -4, -3}), frozenset({2, 3, 7, -7, -3, -2}), frozenset({1, 9, 11, -12, -9}), frozenset({1, 7, 9, -9, -8}), frozenset({3, 11, -7, -4, -3}), frozenset({2, 6, 9, -7, -6, -4}), frozenset({1, 3, 9, -6, -4, -3}), frozenset({3, 6, 9, -8, -7, -3}), frozenset({7, 9, -7, -5, -4}), frozenset({9, 11, -8, -7, -3, -2}), frozenset({2, 7, -4, -3, -2}), frozenset({1, 7, 9, -12, -3, -2}), frozenset({2, 6, 9, -12, -3, -2}), frozenset({3, 6, -9}), frozenset({1, 2, 3, -4, -2}), frozenset({1, 6, 9, -12, -4}), frozenset({6, 11, -12, -3, -2}), frozenset({1, 3, 11, -12, -3}), frozenset({-6, 11, -5}), frozenset({9, 3, -12}), frozenset({9, 11, -9, -7, -4}), frozenset({1, -4, -3, 6}), frozenset({2, 3, 6, -7, -4}), frozenset({2, 3, 11, -8, -5, -3}), frozenset({3, 7, 9, -12, -7}), frozenset({2, 6, 11, -8, -6, -5}), frozenset({6, 7, 11, -9, -8, -7}), frozenset({1, 9, 11, -12, -6, -3}), frozenset({1, 7, 11, -9, -7, -3}), frozenset({1, 7, 9, -8, -6, -3}), frozenset({1, 3, 7, -5, -4, -2}), frozenset({1, 2, 6, -4, -3, -2}), frozenset({9, 11, -12, -6, -2}), frozenset({9, -6, -3}), frozenset({1, 6, 7, -7, -5, -2}), frozenset({1, 6, 9, -7, -5, -4}), frozenset({2, 9, 11, -12, -6, -4}), frozenset({2, 7, 11, -12, -6, -2}), frozenset({11, -2, -9}), frozenset({2, 6, 7, -9, -4, -2}), frozenset({6, 7, 9, -12, -8, -2}), frozenset({1, 2, 3, 11, -12, -5}), frozenset({6, 11, -7, -5, -3, -2}), frozenset({1, 2, 11, -8, -6}), frozenset({2, 3, 7, -9, -3}), frozenset({-8, 9, -2, 1}), frozenset({-4, -3, 7}), frozenset({3, 6, 11, -8, -7, -5}), frozenset({3, 7, 9, -9, -6, -4}), frozenset({-7, 11, -4}), frozenset({1, 9, 11, -9, -7, -5}), frozenset({2, 3, 11, -7, -5, -4}), frozenset({3, 6, 7, -7, -6, -3}), frozenset({1, 6, 11, -8, -7, -3}), frozenset({2, 7, 11, -9, -6, -5}), frozenset({1, 3, 11, -8, -5, -2}), frozenset({3, 1, 2, -6}), frozenset({7, 9, -7, -4, -3, -2}), frozenset({1, 3, 11, -7, -6, -2}), frozenset({1, 7, 9, -8, -5, -4}), frozenset({2, 6, 7, -7, -6, -2}), frozenset({1, 7, 11, -8, -6, -5}), frozenset({6, 7, 9, -9, -8, -5}), frozenset({1, 6, 7, -6, -5, -3}), frozenset({2, 6, 9, -9, -5, -3}), frozenset({1, 2, 11, -7, -4, -3}), frozenset({1, 2, 9, -5, -4, -3}), frozenset({6, 9, -8, -5, -2}), frozenset({6, 7, -8, -3, -2}), frozenset({9, 11, -8, -7, -5}), frozenset({1, 11, -5, -4, -3}), frozenset({1, 7, 11, -12, -7}), frozenset({2, 6, 7, -8, -7}), frozenset({2, 3, 11, -9, -7}), frozenset({2, 3, 9, -8, -6}), frozenset({1, 6, 11, -9, -6, -3}), frozenset({3, 6, 7, -9, -4, -3}), frozenset({9, -6, 6, -9}), frozenset({3, 6, 7, -9, -7}), frozenset({2, 11, -8, -3, -2}), frozenset({1, -6, -4, 9}), frozenset({7, 9, 11, -12, -8, -7}), frozenset({2, 3, 9, -7, -5, -2}), frozenset({-7, 2, -2, 7}), frozenset({-8, 9, 11, -12}), frozenset({1, 7, 9, -7, -6, -4}), frozenset({2, 3, -3, -2}), frozenset({9, -12, -3, 6}), frozenset({1, -5, -3, 7}), frozenset({2, 6, 11, -12, -5, -2}), frozenset({-7, 3, 9, -5}), frozenset({1, 2, 3, 9, -12, -3}), frozenset({1, 6, 7, -9, -5}), frozenset({2, 9, 11, -9, -7, -6}), frozenset({11, -5, -12, 6}), frozenset({2, 6, 9, -9, -6, -2}), frozenset({1, 7, 9, -12, -5}), frozenset({6, 7, 11, -12, -7, -5}), frozenset({1, 2, 3, 9, -9, -6}), frozenset({3, 9, 11, -12, -6, -5}), frozenset({-6, 11, -12, 7}), frozenset({1, 2, 9, -6, -4, -2}), frozenset({-7, 11, 1, -5}), frozenset({1, 3, 6, 11, -12, -9}), frozenset({2, 7, 9, -7, -6, -5}), frozenset({6, 7, -6, -4, -3}), frozenset({2, 3, 6, -6, -3, -2}), frozenset({2, 6, 9, -8, -5, -4}), frozenset({1, 2, 6, 7, -12, -4}), frozenset({1, 2, -3}), frozenset({7, 11, -9, -6, -3}), frozenset({7, 11, -8, -7, -3}), frozenset({7, 9, -8, -5, -3}), frozenset({2, 7, 9, -9, -6, -3}), frozenset({9, -3, -7, 1}), frozenset({1, 3, 7, -8, -3}), frozenset({7, 11, -7, -5, -4, -2}), frozenset({-7, 3, -2, 6}), frozenset({1, 2, 6, -7, -2}), frozenset({1, 3, 11, -9, -4, -2}), frozenset({2, 7, 11, -12, -5, -3}), frozenset({2, 3, 11, -12, -4}), frozenset({3, 6, 9, -9, -5, -4}), frozenset({3, 6, 7, -12, -4})}\n"
          ]
        }
      ]
    }
  ]
}